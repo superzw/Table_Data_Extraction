{
  "cells": [
    {
      "cell_type": "markdown",
      "metadata": {
        "colab_type": "text",
        "id": "view-in-github"
      },
      "source": [
        "<a href=\"https://colab.research.google.com/github/Soumi7/Table_Data_Extraction/blob/main/medium_table.ipynb\" target=\"_parent\"><img src=\"https://colab.research.google.com/assets/colab-badge.svg\" alt=\"Open In Colab\"/></a>"
      ]
    },
    {
      "cell_type": "markdown",
      "metadata": {
        "id": "ffIEiXs-rnEj"
      },
      "source": [
        "## Loading original image to display"
      ]
    },
    {
      "cell_type": "code",
      "execution_count": null,
      "metadata": {},
      "outputs": [],
      "source": [
        "%load_ext autoreload\n",
        "%autoreload 2"
      ]
    },
    {
      "cell_type": "code",
      "execution_count": null,
      "metadata": {
        "colab": {
          "base_uri": "https://localhost:8080/",
          "height": 260
        },
        "id": "HOvWe9ymrTJA",
        "outputId": "1021bfb3-39f9-4e8e-e33f-b07199bcdeae"
      },
      "outputs": [],
      "source": [
        "import cv2\n",
        "import matplotlib.pyplot as plt\n",
        "# file=r'./test_table_img.png'\n",
        "file=r'./test6.png'\n",
        "img = cv2.imread(file,0)\n",
        "plot1 = plt.imshow(cv2.cvtColor(img, cv2.COLOR_BGR2RGB))\n",
        "plt.show()"
      ]
    },
    {
      "cell_type": "markdown",
      "metadata": {
        "id": "dj-5wEwuruZB"
      },
      "source": [
        "## Inverted Image with global thresh holding"
      ]
    },
    {
      "cell_type": "code",
      "execution_count": null,
      "metadata": {
        "colab": {
          "base_uri": "https://localhost:8080/",
          "height": 272
        },
        "id": "aNFrsSNprbuQ",
        "outputId": "39e8cb61-6db1-4dd1-dbbf-7b10b1ec672a"
      },
      "outputs": [],
      "source": [
        "thresh,img_bin = cv2.threshold(img,128,255,cv2.THRESH_BINARY)\n",
        "img_bin = 255-img_bin\n",
        "plotting = plt.imshow(img_bin,cmap='gray')\n",
        "plt.title(\"Inverted Image with global thresh holding\")\n",
        "plt.show()"
      ]
    },
    {
      "cell_type": "markdown",
      "metadata": {
        "id": "ApYaH-M8r0zq"
      },
      "source": [
        "## Inverted Image with otsu thresh holding"
      ]
    },
    {
      "cell_type": "code",
      "execution_count": null,
      "metadata": {
        "colab": {
          "base_uri": "https://localhost:8080/",
          "height": 272
        },
        "id": "uvsY6_KMrip-",
        "outputId": "4c8a1651-b0f4-491e-a830-95cdb8b3cd8c"
      },
      "outputs": [],
      "source": [
        "img_bin1 = 255-img\n",
        "thresh1,img_bin1_otsu = cv2.threshold(img_bin1,128,255,cv2.THRESH_OTSU)\n",
        "plotting = plt.imshow(img_bin1_otsu,cmap='gray')\n",
        "plt.title(\"Inverted Image with otsu thresh holding\")\n",
        "plt.show()"
      ]
    },
    {
      "cell_type": "markdown",
      "metadata": {
        "id": "SkdV9Ct2r5Xg"
      },
      "source": [
        "## Inverted image with both global and Otsu thresholding"
      ]
    },
    {
      "cell_type": "code",
      "execution_count": null,
      "metadata": {
        "colab": {
          "base_uri": "https://localhost:8080/",
          "height": 272
        },
        "id": "32FvRsKOr4rQ",
        "outputId": "d4891511-0c24-43e0-ab4a-a8bb663b4620"
      },
      "outputs": [],
      "source": [
        "img_bin2 = 255-img\n",
        "thresh1,img_bin_otsu = cv2.threshold(img_bin2,128,255,cv2.THRESH_BINARY | cv2.THRESH_OTSU)\n",
        "plotting = plt.imshow(img_bin_otsu,cmap='gray')\n",
        "plt.title(\"Inverted Image with otsu thresh holding\")\n",
        "plt.show()"
      ]
    },
    {
      "cell_type": "markdown",
      "metadata": {
        "id": "EacCZH7KsOi2"
      },
      "source": [
        "## Create a rectangular structuring element"
      ]
    },
    {
      "cell_type": "code",
      "execution_count": null,
      "metadata": {
        "colab": {
          "base_uri": "https://localhost:8080/"
        },
        "id": "1jzyWc2oscMx",
        "outputId": "7071285b-74dc-48f5-b88b-1382bf1a302d"
      },
      "outputs": [],
      "source": [
        "kernel = cv2.getStructuringElement(cv2.MORPH_RECT, (2, 2))\n",
        "print(kernel)"
      ]
    },
    {
      "cell_type": "markdown",
      "metadata": {
        "id": "QVga65IVs5A8"
      },
      "source": [
        "# Morphological Operations"
      ]
    },
    {
      "cell_type": "markdown",
      "metadata": {
        "id": "NSW09_FCssiL"
      },
      "source": [
        "## Create a new structuring element to perform erosion on the image"
      ]
    },
    {
      "cell_type": "markdown",
      "metadata": {
        "id": "krTjTqQHxWSw"
      },
      "source": [
        "First we need to get the vertical lines."
      ]
    },
    {
      "cell_type": "markdown",
      "metadata": {
        "id": "9cUY-bhnvAk6"
      },
      "source": [
        "We create a vertical kernel with kernel width 1 and height the number of columns in image array divided by 200.\n",
        "\n",
        "Erosion makes the pixel 1 only if all the pixels under kernel are 1.\n",
        "\n",
        "We perform erosion for 5 iterations with the vertical kernel."
      ]
    },
    {
      "cell_type": "code",
      "execution_count": null,
      "metadata": {
        "colab": {
          "base_uri": "https://localhost:8080/",
          "height": 230
        },
        "id": "CsOPhj0hsrTR",
        "outputId": "ec7a0a67-0c52-4ce3-b000-4b1d7494a973"
      },
      "outputs": [],
      "source": [
        "import numpy as np\n",
        "plt.figure(figsize= (30,30))\n",
        "\n",
        "vertical_kernel = cv2.getStructuringElement(cv2.MORPH_RECT, (1, np.array(img).shape[1]//50))\n",
        "eroded_image = cv2.erode(img_bin_otsu, vertical_kernel, iterations=3)\n",
        "plt.subplot(151),plt.imshow(eroded_image, cmap = 'gray')\n",
        "plt.title('Image after erosion with vertical kernel'), plt.xticks([]), plt.yticks([])\n",
        "\n",
        "vertical_lines = cv2.dilate(eroded_image, vertical_kernel, iterations=3)\n",
        "plt.subplot(152),plt.imshow(vertical_lines, cmap = 'gray')\n",
        "plt.title('Image after dilation with vertical kernel'), plt.xticks([]), plt.yticks([])\n",
        "\n",
        "plt.show()"
      ]
    },
    {
      "cell_type": "markdown",
      "metadata": {
        "id": "YwlH1bQbvygm"
      },
      "source": [
        "Dilation will make the pixel 1, if at least one of the pixels under the kernel is 1."
      ]
    },
    {
      "cell_type": "markdown",
      "metadata": {
        "id": "RLwEbcwnwjd4"
      },
      "source": [
        "Similarly lets do the same with a horizontal lines to get the horizontal lines."
      ]
    },
    {
      "cell_type": "code",
      "execution_count": null,
      "metadata": {
        "colab": {
          "base_uri": "https://localhost:8080/",
          "height": 230
        },
        "id": "pHoiwX7ksr37",
        "outputId": "04505df5-142f-4fa1-a99a-16deca31dec3"
      },
      "outputs": [],
      "source": [
        "plt.figure(figsize= (30,30))\n",
        "\n",
        "hor_kernel = cv2.getStructuringElement(cv2.MORPH_RECT, (np.array(img).shape[1]//50, 1))\n",
        "horizontal_lines = cv2.erode(img_bin, hor_kernel, iterations=5)\n",
        "plt.subplot(153),plt.imshow(horizontal_lines, cmap = 'gray')\n",
        "plt.title('Image after erosion with horizontal kernel'), plt.xticks([]), plt.yticks([])\n",
        "\n",
        "horizontal_lines = cv2.dilate(horizontal_lines, hor_kernel, iterations=5)\n",
        "plt.subplot(154),plt.imshow(horizontal_lines, cmap = 'gray')\n",
        "plt.title('Image after dilation with horizontal kernel'), plt.xticks([]), plt.yticks([])\n",
        "\n",
        "plt.show()"
      ]
    },
    {
      "cell_type": "markdown",
      "metadata": {
        "id": "8bJYFUKYxmyI"
      },
      "source": [
        "## Now we add the two images"
      ]
    },
    {
      "cell_type": "code",
      "execution_count": null,
      "metadata": {
        "colab": {
          "base_uri": "https://localhost:8080/",
          "height": 191
        },
        "id": "ZkV4lCbSxxxt",
        "outputId": "46a428d4-7934-469c-9f82-3ff49f8a93db"
      },
      "outputs": [],
      "source": [
        "plt.figure(figsize= (30,30))\n",
        "\n",
        "vertical_horizontal_lines = cv2.addWeighted(vertical_lines, 0.5, horizontal_lines, 0.5, 0.0)\n",
        "vertical_horizontal_lines = cv2.erode(~vertical_horizontal_lines, kernel, iterations=3)\n",
        "plt.subplot(151),plt.imshow(vertical_horizontal_lines, cmap = 'gray')\n",
        "plt.title('Erosion'), plt.xticks([]), plt.yticks([])\n",
        "\n",
        "thresh, vertical_horizontal_lines = cv2.threshold(vertical_horizontal_lines,128,255, cv2.THRESH_BINARY | cv2.THRESH_OTSU)\n",
        "plt.subplot(152),plt.imshow(vertical_horizontal_lines, cmap = 'gray')\n",
        "plt.title('global and otsu thresholding'), plt.xticks([]), plt.yticks([])\n",
        "\n",
        "bitxor = cv2.bitwise_xor(img,vertical_horizontal_lines)\n",
        "plt.subplot(153),plt.imshow(bitxor, cmap = 'gray')\n",
        "plt.title('Horizontal and vertical lines image bitxor'), plt.xticks([]), plt.yticks([])\n",
        "\n",
        "bitnot = cv2.bitwise_not(bitxor)\n",
        "plt.subplot(154),plt.imshow(bitnot, cmap = 'gray')\n",
        "plt.title('Horizontal and vertical lines image with bitnot'), plt.xticks([]), plt.yticks([])\n",
        "\n",
        "plt.show()"
      ]
    },
    {
      "cell_type": "code",
      "execution_count": null,
      "metadata": {
        "colab": {
          "base_uri": "https://localhost:8080/"
        },
        "id": "UwGk8BfY39Jt",
        "outputId": "ee31ca19-134d-45df-99dd-6dcc2bfd12d6"
      },
      "outputs": [],
      "source": [
        "# !pip install pytesseract\n",
        "# !sudo apt install tesseract-ocr"
      ]
    },
    {
      "cell_type": "code",
      "execution_count": null,
      "metadata": {
        "id": "mWKHYz1Q4lt6"
      },
      "outputs": [],
      "source": [
        "import pytesseract"
      ]
    },
    {
      "cell_type": "markdown",
      "metadata": {
        "id": "Pye7z56dMwV-"
      },
      "source": [
        "## Let's get the contours from the grid that we have obtained by adding the horizontal and vertical lines."
      ]
    },
    {
      "cell_type": "code",
      "execution_count": null,
      "metadata": {
        "id": "F_AU8ROF4-Lj"
      },
      "outputs": [],
      "source": [
        "contours, hierarchy = cv2.findContours(vertical_horizontal_lines, cv2.RETR_TREE, cv2.CHAIN_APPROX_SIMPLE)"
      ]
    },
    {
      "cell_type": "markdown",
      "metadata": {
        "id": "Z0zY34r65bSg"
      },
      "source": [
        "## Bounding Boxes"
      ]
    },
    {
      "cell_type": "markdown",
      "metadata": {
        "id": "fu9xSSzlcVFk"
      },
      "source": [
        "To get the coordinates of different boxes"
      ]
    },
    {
      "cell_type": "code",
      "execution_count": null,
      "metadata": {
        "id": "nvYYBkWm5U65"
      },
      "outputs": [],
      "source": [
        "boundingBoxes = [cv2.boundingRect(contour) for contour in contours]\n",
        "(contours, boundingBoxes) = zip(*sorted(zip(contours, boundingBoxes),key=lambda x:x[1][1]))"
      ]
    },
    {
      "cell_type": "markdown",
      "metadata": {
        "id": "muaDbe3bNall"
      },
      "source": [
        "Here we draw the contours on our image and also store them in list boxes. It is stored as a list (x,y,w,h) : x and y beind coordinates of top left corner and w and h being width and height of the box respectively."
      ]
    },
    {
      "cell_type": "code",
      "execution_count": null,
      "metadata": {
        "colab": {
          "base_uri": "https://localhost:8080/",
          "height": 272
        },
        "id": "UMJoJJKecJT4",
        "outputId": "1e8899d2-34e4-4d87-f1cc-5f49e6d12858"
      },
      "outputs": [],
      "source": [
        "boxes = []\n",
        "for contour in contours:\n",
        "  x, y, w, h = cv2.boundingRect(contour)\n",
        "  if (w<1000 and h<500):\n",
        "    image = cv2.rectangle(img,(x,y),(x+w,y+h),(0,255,0),2)\n",
        "    boxes.append([x,y,w,h])\n",
        "plotting = plt.imshow(image,cmap='gray')\n",
        "plt.title(\"Identified contours\")\n",
        "plt.show()"
      ]
    },
    {
      "cell_type": "code",
      "execution_count": null,
      "metadata": {},
      "outputs": [],
      "source": [
        "boxes"
      ]
    },
    {
      "cell_type": "code",
      "execution_count": null,
      "metadata": {},
      "outputs": [],
      "source": [
        "bitnot.shape"
      ]
    },
    {
      "cell_type": "code",
      "execution_count": null,
      "metadata": {},
      "outputs": [],
      "source": [
        "import test\n",
        "nboxes=[\n",
        "    [0, 0, 666, 154],\n",
        "    [21, 23, 307, 52],\n",
        "    [336, 23, 308, 52],\n",
        "    [21, 83, 307, 52],\n",
        "    [336, 83, 308, 52],\n",
        " ]\n",
        "for box in nboxes[:]:\n",
        "    # print(box)\n",
        "    test.show_img(img, box)"
      ]
    },
    {
      "cell_type": "code",
      "execution_count": null,
      "metadata": {},
      "outputs": [],
      "source": [
        "bitnot"
      ]
    },
    {
      "cell_type": "markdown",
      "metadata": {
        "id": "u-HRih8uefDS"
      },
      "source": [
        "## Getting the rows and columns"
      ]
    },
    {
      "cell_type": "markdown",
      "metadata": {
        "id": "AaxuAgNKejft"
      },
      "source": [
        "## To store rows and columns :\n",
        "\n",
        "- Now we add rows and columns.\n",
        "- We calculate the mean height of all boxes.\n",
        "- Initially, we append the first box to the columns list.\n",
        "- The columns list is essentialy a temporary list.\n",
        "- We assign previous box to the first box as well.\n",
        "- We will loop through the remaining boundingBoxes list.\n",
        "- At each iteration, we check if the y coordinate of the top left corner of the current box is less than the y coordinate of the previous box added with half the mean of all heights.\n",
        "- If yes :\n",
        "    - The current box is appended to columns list.\n",
        "    - The current box is assigned to previous box.\n",
        "    - Next we check if we are at the last index. If yes :\n",
        "      - We append the entire column to rows list.\n",
        "- If no :\n",
        "    - We append the columns list to rows.\n",
        "    - We assign the columns list to empty as this will start a new empty columns list.\n",
        "    - We assign the current box to the previous box variable.\n",
        "    - We append the current box to the empty column list we just created.\n"
      ]
    },
    {
      "cell_type": "code",
      "execution_count": null,
      "metadata": {
        "colab": {
          "base_uri": "https://localhost:8080/"
        },
        "id": "HGAAkpScds4V",
        "outputId": "4da74412-e558-4a14-a38b-090278ad035e"
      },
      "outputs": [],
      "source": [
        "rows=[]\n",
        "columns=[]\n",
        "heights = [boundingBoxes[i][3] for i in range(len(boundingBoxes))]\n",
        "mean = np.mean(heights)\n",
        "print(mean)\n",
        "columns.append(boxes[0])\n",
        "previous=boxes[0]\n",
        "for i in range(1,len(boxes)):\n",
        "  if(boxes[i][1]<=previous[1]+mean/2):\n",
        "    columns.append(boxes[i])\n",
        "    previous=boxes[i]\n",
        "    if(i==len(boxes)-1):\n",
        "      rows.append(columns)\n",
        "  else:\n",
        "    rows.append(columns)\n",
        "    columns=[]\n",
        "    previous = boxes[i]\n",
        "    columns.append(boxes[i])\n",
        "print(\"Rows\")\n",
        "for row in rows:\n",
        "  print(row)"
      ]
    },
    {
      "cell_type": "markdown",
      "metadata": {
        "id": "vMJZosvATYex"
      },
      "source": [
        "Lets get the total cells in each row"
      ]
    },
    {
      "cell_type": "code",
      "execution_count": null,
      "metadata": {
        "colab": {
          "base_uri": "https://localhost:8080/"
        },
        "id": "5owk0EZMe6-D",
        "outputId": "52abbcf1-16ab-4462-fd35-ca61e4b1b5ac"
      },
      "outputs": [],
      "source": [
        "total_cells=0\n",
        "for i in range(len(row)):\n",
        "  if len(row[i]) > total_cells:\n",
        "    total_cells = len(row[i])\n",
        "print(total_cells)"
      ]
    },
    {
      "cell_type": "markdown",
      "metadata": {
        "id": "YAT_RscggvKV"
      },
      "source": [
        "# Lets get the centre of cell\n",
        "\n",
        "- We add the width of cell to left bottom x coordinate to the the x coordinate of centre of cell."
      ]
    },
    {
      "cell_type": "code",
      "execution_count": null,
      "metadata": {},
      "outputs": [],
      "source": [
        "for r in rows:\n",
        "    print(r)"
      ]
    },
    {
      "cell_type": "code",
      "execution_count": null,
      "metadata": {
        "colab": {
          "base_uri": "https://localhost:8080/"
        },
        "id": "uRV71OS7gbbW",
        "outputId": "573c2742-295a-4606-ee8d-d6c2c092f470"
      },
      "outputs": [],
      "source": [
        "center = [int(rows[i][j][0]+rows[i][j][2]/2) for j in range(len(rows[i])) if rows[0]]\n",
        "print(center)"
      ]
    },
    {
      "cell_type": "code",
      "execution_count": null,
      "metadata": {
        "colab": {
          "base_uri": "https://localhost:8080/"
        },
        "id": "Rxns4RUwg7y4",
        "outputId": "f345aa41-b371-444d-8f36-2c6119805911"
      },
      "outputs": [],
      "source": [
        "center=np.array(center)\n",
        "center.sort()\n",
        "print(center)"
      ]
    },
    {
      "cell_type": "markdown",
      "metadata": {
        "id": "YA1JpToJicOP"
      },
      "source": [
        "# Now we create a list of the coordinates of the boxes"
      ]
    },
    {
      "cell_type": "code",
      "execution_count": null,
      "metadata": {
        "colab": {
          "base_uri": "https://localhost:8080/"
        },
        "id": "rFI8bvcFg_-1",
        "outputId": "612769bf-3c28-491a-b1f2-d6e38da73d56"
      },
      "outputs": [],
      "source": [
        "boxes_list = []\n",
        "for i in range(len(rows)):\n",
        "    l=[]\n",
        "    for k in range(total_cells):\n",
        "        l.append([])\n",
        "    for j in range(len(rows[i])):\n",
        "        diff = abs(center-(rows[i][j][0]+rows[i][j][2]/4))\n",
        "        minimum = min(diff)\n",
        "        indexing = list(diff).index(minimum)\n",
        "        l[indexing].append(rows[i][j])\n",
        "    boxes_list.append(l)\n",
        "for box in boxes_list:\n",
        "  print(box)"
      ]
    },
    {
      "cell_type": "markdown",
      "metadata": {
        "id": "l6GgE_duiila"
      },
      "source": [
        "## Extract image from the boxes and get the contents using pytesseract\n",
        "\n",
        "- We extract the region of interest from the image.\n",
        "- For the cell we resize it, then perform morphological operations on the extracted cell area to remove noise.\n",
        "- Finally, we use pytesseract to convert the image to a string.\n",
        "- We append the strings in each row first to temporary string s with spaces, and then we append this temporary string to the final dataframe."
      ]
    },
    {
      "cell_type": "code",
      "execution_count": null,
      "metadata": {
        "colab": {
          "base_uri": "https://localhost:8080/"
        },
        "id": "t4Zk1DBzihI1",
        "outputId": "fcb663e2-6593-432d-e65e-8e8d0e334d21"
      },
      "outputs": [],
      "source": [
        "dataframe_final=[]\n",
        "for i in range(len(boxes_list)):\n",
        "    for j in range(len(boxes_list[i])):\n",
        "        s=''\n",
        "        if(len(boxes_list[i][j])==0):\n",
        "            dataframe_final.append(' ')\n",
        "        else:\n",
        "            for k in range(len(boxes_list[i][j])):\n",
        "                y,x,w,h = boxes_list[i][j][k][0],boxes_list[i][j][k][1], boxes_list[i][j][k][2],boxes_list[i][j][k][3]\n",
        "                roi = bitnot[x:x+h, y:y+w]\n",
        "                kernel = cv2.getStructuringElement(cv2.MORPH_RECT, (2, 1))\n",
        "                border = cv2.copyMakeBorder(roi,2,2,2,2, cv2.BORDER_CONSTANT,value=[255,255])\n",
        "                resizing = cv2.resize(border, None, fx=2, fy=2, interpolation=cv2.INTER_CUBIC)\n",
        "                dilation = cv2.dilate(resizing, kernel,iterations=1)\n",
        "                erosion = cv2.erode(dilation, kernel,iterations=2)                \n",
        "                out = pytesseract.image_to_string(erosion)\n",
        "                if(len(out)==0):\n",
        "                    out = pytesseract.image_to_string(erosion)\n",
        "                s = s +\" \"+ out\n",
        "            dataframe_final.append(s)\n",
        "print(dataframe_final)"
      ]
    },
    {
      "cell_type": "markdown",
      "metadata": {
        "id": "kMTnSQ8DXNDa"
      },
      "source": [
        "## Next we create a Numpy array from the dataframe"
      ]
    },
    {
      "cell_type": "code",
      "execution_count": null,
      "metadata": {
        "colab": {
          "base_uri": "https://localhost:8080/"
        },
        "id": "Jljgf1KKlmnk",
        "outputId": "3996aef6-0386-43bd-a514-42756b86e914"
      },
      "outputs": [],
      "source": [
        "arr = np.array(dataframe_final)\n",
        "arr"
      ]
    },
    {
      "cell_type": "markdown",
      "metadata": {
        "id": "VqQXVbeCvNbL"
      },
      "source": [
        "## **Creating a dataframe from extracted data**\n",
        "\n",
        "- We reshape our array into a dataframe with the number of rows and columns.\n",
        "- Lets print out the columns and check!"
      ]
    },
    {
      "cell_type": "code",
      "execution_count": null,
      "metadata": {
        "colab": {
          "base_uri": "https://localhost:8080/"
        },
        "id": "glHwDPLwlwi4",
        "outputId": "44d08b38-c8f7-4b7c-a94d-4f52a549fc0d"
      },
      "outputs": [],
      "source": [
        "import pandas as pd\n",
        "dataframe = pd.DataFrame(arr.reshape(len(rows), total_cells))\n",
        "data = dataframe.style.set_properties(align=\"left\")\n",
        "#print(data)\n",
        "#print(dataframe)\n",
        "d=[]\n",
        "for i in range(0,len(rows)):\n",
        "  for j in range(0,total_cells):\n",
        "    print(dataframe[i][j],end=\" \")\n",
        "  print()"
      ]
    },
    {
      "cell_type": "markdown",
      "metadata": {
        "id": "ZYspsVVXGbji"
      },
      "source": [
        "## Printing Dataframe"
      ]
    },
    {
      "cell_type": "code",
      "execution_count": null,
      "metadata": {
        "colab": {
          "base_uri": "https://localhost:8080/"
        },
        "id": "wveir5aGGX3g",
        "outputId": "241a2b3b-6e6e-42f7-9b4d-597c1bbfcdd6"
      },
      "outputs": [],
      "source": [
        "print(dataframe)"
      ]
    },
    {
      "cell_type": "markdown",
      "metadata": {
        "id": "wiN7kuYpXmbi"
      },
      "source": [
        "#### Final task is to save this data into a csv format for further uses.\n",
        "\n",
        "- A output.csv file is generated in google colab. You can download it."
      ]
    },
    {
      "cell_type": "code",
      "execution_count": null,
      "metadata": {
        "id": "kGl9DGuovZWc"
      },
      "outputs": [],
      "source": [
        "dataframe.to_csv(\"output.csv\")"
      ]
    },
    {
      "cell_type": "code",
      "execution_count": 1,
      "metadata": {},
      "outputs": [
        {
          "data": {
            "text/plain": [
              "<matplotlib.image.AxesImage at 0x1143973d0>"
            ]
          },
          "execution_count": 1,
          "metadata": {},
          "output_type": "execute_result"
        },
        {
          "data": {
            "image/png": "[encoded data removed]",
            "text/plain": [
              "<Figure size 432x288 with 1 Axes>"
            ]
          },
          "metadata": {
            "needs_background": "light"
          },
          "output_type": "display_data"
        }
      ],
      "source": [
        "import cv2\n",
        "import numpy as np\n",
        "import matplotlib.pyplot as plt\n",
        "\n",
        "# 创建一个空白图像\n",
        "img = np.zeros((400, 400, 3), np.uint8)\n",
        "\n",
        "# 定义矩形的参数\n",
        "x1, y1 = 50, 50\n",
        "x2, y2 = 250, 250\n",
        "color = (0, 0, 255)  # 红色\n",
        "thickness = 2\n",
        "\n",
        "# 绘制矩形\n",
        "cv2.rectangle(img, (x1, y1), (x2, y2), color, thickness)\n",
        "\n",
        "# 显示图像\n",
        "# cv2.imshow('Image', img)\n",
        "plt.imshow(img)\n",
        "\n",
        "# cv2.waitKey(0)\n",
        "# cv2.destroyAllWindows()\n",
        "# df2"
      ]
    },
    {
      "cell_type": "code",
      "execution_count": 6,
      "metadata": {},
      "outputs": [
        {
          "name": "stdout",
          "output_type": "stream",
          "text": [
            "(91, 371)\n"
          ]
        },
        {
          "data": {
            "text/plain": [
              "<matplotlib.image.AxesImage at 0x1176bf430>"
            ]
          },
          "execution_count": 6,
          "metadata": {},
          "output_type": "execute_result"
        },
        {
          "data": {
            "image/png": "[encoded data removed]",
            "text/plain": [
              "<Figure size 432x288 with 1 Axes>"
            ]
          },
          "metadata": {
            "needs_background": "light"
          },
          "output_type": "display_data"
        }
      ],
      "source": [
        "import pytesseract\n",
        "img = cv2.imread('./output_name.png', 0)\n",
        "pytesseract.image_to_string(img)\n",
        "print(img.shape)\n",
        "plt.imshow(img)"
      ]
    }
  ],
  "metadata": {
    "colab": {
      "authorship_tag": "ABX9TyNY/I6C7rYbWRLYVwYAz530",
      "collapsed_sections": [],
      "include_colab_link": true,
      "name": "medium_table.ipynb",
      "provenance": []
    },
    "kernelspec": {
      "display_name": "Python 3",
      "name": "python3"
    },
    "language_info": {
      "codemirror_mode": {
        "name": "ipython",
        "version": 3
      },
      "file_extension": ".py",
      "mimetype": "text/x-python",
      "name": "python",
      "nbconvert_exporter": "python",
      "pygments_lexer": "ipython3",
      "version": "3.9.0"
    }
  },
  "nbformat": 4,
  "nbformat_minor": 0
}
